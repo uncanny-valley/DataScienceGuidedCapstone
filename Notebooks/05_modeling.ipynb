{
 "cells": [
  {
   "cell_type": "markdown",
   "metadata": {},
   "source": [
    "# 5 Modeling<a id='5_Modeling'></a>"
   ]
  },
  {
   "cell_type": "markdown",
   "metadata": {},
   "source": [
    "## 5.1 Contents<a id='5.1_Contents'></a>\n",
    "* [5 Modeling](#5_Modeling)\n",
    "  * [5.1 Contents](#5.1_Contents)\n",
    "  * [5.2 Introduction](#5.2_Introduction)\n",
    "  * [5.3 Imports](#5.3_Imports)\n",
    "  * [5.4 Load Model](#5.4_Load_Model)\n",
    "  * [5.5 Load Data](#5.5_Load_Data)\n",
    "  * [5.6 Refit Model On All Available Data (excluding Big Mountain)](#5.6_Refit_Model_On_All_Available_Data_(excluding_Big_Mountain))\n",
    "  * [5.7 Calculate Expected Big Mountain Ticket Price From The Model](#5.7_Calculate_Expected_Big_Mountain_Ticket_Price_From_The_Model)\n",
    "  * [5.8 Big Mountain Resort In Market Context](#5.8_Big_Mountain_Resort_In_Market_Context)\n",
    "    * [5.8.1 Ticket price](#5.8.1_Ticket_price)\n",
    "    * [5.8.2 Vertical drop](#5.8.2_Vertical_drop)\n",
    "    * [5.8.3 Snow making area](#5.8.3_Snow_making_area)\n",
    "    * [5.8.4 Total number of chairs](#5.8.4_Total_number_of_chairs)\n",
    "    * [5.8.5 Fast quads](#5.8.5_Fast_quads)\n",
    "    * [5.8.6 Runs](#5.8.6_Runs)\n",
    "    * [5.8.7 Longest run](#5.8.7_Longest_run)\n",
    "    * [5.8.8 Trams](#5.8.8_Trams)\n",
    "    * [5.8.9 Skiable terrain area](#5.8.9_Skiable_terrain_area)\n",
    "  * [5.9 Modeling scenarios](#5.9_Modeling_scenarios)\n",
    "    * [5.9.1 Scenario 1](#5.9.1_Scenario_1)\n",
    "    * [5.9.2 Scenario 2](#5.9.2_Scenario_2)\n",
    "    * [5.9.3 Scenario 3](#5.9.3_Scenario_3)\n",
    "    * [5.9.4 Scenario 4](#5.9.4_Scenario_4)\n",
    "  * [5.10 Summary](#5.10_Summary)\n",
    "  * [5.11 Further work](#5.11_Further_work)\n"
   ]
  },
  {
   "cell_type": "markdown",
   "metadata": {},
   "source": [
    "## 5.2 Introduction<a id='5.2_Introduction'></a>"
   ]
  },
  {
   "cell_type": "markdown",
   "metadata": {},
   "source": [
    "In this notebook, we now take our model for ski resort ticket price and leverage it to gain some insights into what price Big Mountain's facilities might actually support as well as explore the sensitivity of changes to various resort parameters. Note that this relies on the implicit assumption that all other resorts are largely setting prices based on how much people value certain facilities. Essentially this assumes prices are set by a free market.\n",
    "\n",
    "We can now use our model to gain insight into what Big Mountain's ideal ticket price could/should be, and how that might change under various scenarios."
   ]
  },
  {
   "cell_type": "markdown",
   "metadata": {},
   "source": [
    "## 5.3 Imports<a id='5.3_Imports'></a>"
   ]
  },
  {
   "cell_type": "code",
   "execution_count": 1,
   "metadata": {},
   "outputs": [],
   "source": [
    "import pandas as pd\n",
    "import numpy as np\n",
    "import os\n",
    "import pickle\n",
    "import matplotlib.pyplot as plt\n",
    "import seaborn as sns\n",
    "from sklearn import __version__ as sklearn_version\n",
    "from sklearn.model_selection import cross_validate"
   ]
  },
  {
   "cell_type": "markdown",
   "metadata": {},
   "source": [
    "## 5.4 Load Model<a id='5.4_Load_Model'></a>"
   ]
  },
  {
   "cell_type": "code",
   "execution_count": 3,
   "metadata": {},
   "outputs": [],
   "source": [
    "# This isn't exactly production-grade, but a quick check for development\n",
    "# These checks can save some head-scratching in development when moving from\n",
    "# one python environment to another, for example\n",
    "expected_model_version = '1.0'\n",
    "model_path = '../models/ski_resort_pricing_model.pkl'\n",
    "if os.path.exists(model_path):\n",
    "    with open(model_path, 'rb') as f:\n",
    "        model = pickle.load(f)\n",
    "    if model.version != expected_model_version:\n",
    "        print(\"Expected model version doesn't match version loaded\")\n",
    "    if model.sklearn_version != sklearn_version:\n",
    "        print(\"Warning: model created under different sklearn version\")\n",
    "else:\n",
    "    print(\"Expected model not found\")"
   ]
  },
  {
   "cell_type": "markdown",
   "metadata": {},
   "source": [
    "## 5.5 Load Data<a id='5.5_Load_Data'></a>"
   ]
  },
  {
   "cell_type": "code",
   "execution_count": 4,
   "metadata": {},
   "outputs": [],
   "source": [
    "ski_data = pd.read_csv('../data/ski_data_step3_features.csv')"
   ]
  },
  {
   "cell_type": "code",
   "execution_count": 5,
   "metadata": {},
   "outputs": [],
   "source": [
    "big_mountain = ski_data[ski_data.Name == 'Big Mountain Resort']"
   ]
  },
  {
   "cell_type": "code",
   "execution_count": 6,
   "metadata": {
    "scrolled": true
   },
   "outputs": [
    {
     "data": {
      "text/html": [
       "<div>\n",
       "<style scoped>\n",
       "    .dataframe tbody tr th:only-of-type {\n",
       "        vertical-align: middle;\n",
       "    }\n",
       "\n",
       "    .dataframe tbody tr th {\n",
       "        vertical-align: top;\n",
       "    }\n",
       "\n",
       "    .dataframe thead th {\n",
       "        text-align: right;\n",
       "    }\n",
       "</style>\n",
       "<table border=\"1\" class=\"dataframe\">\n",
       "  <thead>\n",
       "    <tr style=\"text-align: right;\">\n",
       "      <th></th>\n",
       "      <th>124</th>\n",
       "    </tr>\n",
       "  </thead>\n",
       "  <tbody>\n",
       "    <tr>\n",
       "      <th>Name</th>\n",
       "      <td>Big Mountain Resort</td>\n",
       "    </tr>\n",
       "    <tr>\n",
       "      <th>Region</th>\n",
       "      <td>Montana</td>\n",
       "    </tr>\n",
       "    <tr>\n",
       "      <th>state</th>\n",
       "      <td>Montana</td>\n",
       "    </tr>\n",
       "    <tr>\n",
       "      <th>summit_elev</th>\n",
       "      <td>6817</td>\n",
       "    </tr>\n",
       "    <tr>\n",
       "      <th>vertical_drop</th>\n",
       "      <td>2353</td>\n",
       "    </tr>\n",
       "    <tr>\n",
       "      <th>base_elev</th>\n",
       "      <td>4464</td>\n",
       "    </tr>\n",
       "    <tr>\n",
       "      <th>trams</th>\n",
       "      <td>0</td>\n",
       "    </tr>\n",
       "    <tr>\n",
       "      <th>fastSixes</th>\n",
       "      <td>0</td>\n",
       "    </tr>\n",
       "    <tr>\n",
       "      <th>fastQuads</th>\n",
       "      <td>3</td>\n",
       "    </tr>\n",
       "    <tr>\n",
       "      <th>quad</th>\n",
       "      <td>2</td>\n",
       "    </tr>\n",
       "    <tr>\n",
       "      <th>triple</th>\n",
       "      <td>6</td>\n",
       "    </tr>\n",
       "    <tr>\n",
       "      <th>double</th>\n",
       "      <td>0</td>\n",
       "    </tr>\n",
       "    <tr>\n",
       "      <th>surface</th>\n",
       "      <td>3</td>\n",
       "    </tr>\n",
       "    <tr>\n",
       "      <th>total_chairs</th>\n",
       "      <td>14</td>\n",
       "    </tr>\n",
       "    <tr>\n",
       "      <th>Runs</th>\n",
       "      <td>105</td>\n",
       "    </tr>\n",
       "    <tr>\n",
       "      <th>TerrainParks</th>\n",
       "      <td>4</td>\n",
       "    </tr>\n",
       "    <tr>\n",
       "      <th>LongestRun_mi</th>\n",
       "      <td>3.3</td>\n",
       "    </tr>\n",
       "    <tr>\n",
       "      <th>SkiableTerrain_ac</th>\n",
       "      <td>3000</td>\n",
       "    </tr>\n",
       "    <tr>\n",
       "      <th>Snow Making_ac</th>\n",
       "      <td>600</td>\n",
       "    </tr>\n",
       "    <tr>\n",
       "      <th>daysOpenLastYear</th>\n",
       "      <td>123</td>\n",
       "    </tr>\n",
       "    <tr>\n",
       "      <th>yearsOpen</th>\n",
       "      <td>72</td>\n",
       "    </tr>\n",
       "    <tr>\n",
       "      <th>averageSnowfall</th>\n",
       "      <td>333</td>\n",
       "    </tr>\n",
       "    <tr>\n",
       "      <th>AdultWeekend</th>\n",
       "      <td>81</td>\n",
       "    </tr>\n",
       "    <tr>\n",
       "      <th>projectedDaysOpen</th>\n",
       "      <td>123</td>\n",
       "    </tr>\n",
       "    <tr>\n",
       "      <th>NightSkiing_ac</th>\n",
       "      <td>600</td>\n",
       "    </tr>\n",
       "    <tr>\n",
       "      <th>resorts_per_state</th>\n",
       "      <td>12</td>\n",
       "    </tr>\n",
       "    <tr>\n",
       "      <th>resorts_per_100kcapita</th>\n",
       "      <td>1.12278</td>\n",
       "    </tr>\n",
       "    <tr>\n",
       "      <th>resorts_per_100ksq_mile</th>\n",
       "      <td>8.16104</td>\n",
       "    </tr>\n",
       "    <tr>\n",
       "      <th>resort_skiable_area_ac_state_ratio</th>\n",
       "      <td>0.140121</td>\n",
       "    </tr>\n",
       "    <tr>\n",
       "      <th>resort_days_open_state_ratio</th>\n",
       "      <td>0.129338</td>\n",
       "    </tr>\n",
       "    <tr>\n",
       "      <th>resort_terrain_park_state_ratio</th>\n",
       "      <td>0.148148</td>\n",
       "    </tr>\n",
       "    <tr>\n",
       "      <th>resort_night_skiing_state_ratio</th>\n",
       "      <td>0.84507</td>\n",
       "    </tr>\n",
       "    <tr>\n",
       "      <th>total_chairs_runs_ratio</th>\n",
       "      <td>0.133333</td>\n",
       "    </tr>\n",
       "    <tr>\n",
       "      <th>total_chairs_skiable_ratio</th>\n",
       "      <td>0.00466667</td>\n",
       "    </tr>\n",
       "    <tr>\n",
       "      <th>fastQuads_runs_ratio</th>\n",
       "      <td>0.0285714</td>\n",
       "    </tr>\n",
       "    <tr>\n",
       "      <th>fastQuads_skiable_ratio</th>\n",
       "      <td>0.001</td>\n",
       "    </tr>\n",
       "  </tbody>\n",
       "</table>\n",
       "</div>"
      ],
      "text/plain": [
       "                                                    124\n",
       "Name                                Big Mountain Resort\n",
       "Region                                          Montana\n",
       "state                                           Montana\n",
       "summit_elev                                        6817\n",
       "vertical_drop                                      2353\n",
       "base_elev                                          4464\n",
       "trams                                                 0\n",
       "fastSixes                                             0\n",
       "fastQuads                                             3\n",
       "quad                                                  2\n",
       "triple                                                6\n",
       "double                                                0\n",
       "surface                                               3\n",
       "total_chairs                                         14\n",
       "Runs                                                105\n",
       "TerrainParks                                          4\n",
       "LongestRun_mi                                       3.3\n",
       "SkiableTerrain_ac                                  3000\n",
       "Snow Making_ac                                      600\n",
       "daysOpenLastYear                                    123\n",
       "yearsOpen                                            72\n",
       "averageSnowfall                                     333\n",
       "AdultWeekend                                         81\n",
       "projectedDaysOpen                                   123\n",
       "NightSkiing_ac                                      600\n",
       "resorts_per_state                                    12\n",
       "resorts_per_100kcapita                          1.12278\n",
       "resorts_per_100ksq_mile                         8.16104\n",
       "resort_skiable_area_ac_state_ratio             0.140121\n",
       "resort_days_open_state_ratio                   0.129338\n",
       "resort_terrain_park_state_ratio                0.148148\n",
       "resort_night_skiing_state_ratio                 0.84507\n",
       "total_chairs_runs_ratio                        0.133333\n",
       "total_chairs_skiable_ratio                   0.00466667\n",
       "fastQuads_runs_ratio                          0.0285714\n",
       "fastQuads_skiable_ratio                           0.001"
      ]
     },
     "execution_count": 6,
     "metadata": {},
     "output_type": "execute_result"
    }
   ],
   "source": [
    "big_mountain.T"
   ]
  },
  {
   "cell_type": "markdown",
   "metadata": {},
   "source": [
    "## 5.6 Refit Model On All Available Data (excluding Big Mountain)<a id='5.6_Refit_Model_On_All_Available_Data_(excluding_Big_Mountain)'></a>"
   ]
  },
  {
   "cell_type": "markdown",
   "metadata": {},
   "source": [
    "This next step requires some careful thought. We want to refit the model using all available data. But should we include Big Mountain data? On the one hand, we are _not_ trying to estimate model performance on a previously unseen data sample, so theoretically including Big Mountain data should be fine. One might first think that including Big Mountain in the model training would, if anything, improve model performance in predicting Big Mountain's ticket price. But here's where our business context comes in. The motivation for this entire project is based on the sense that Big Mountain needs to adjust its pricing. One way to phrase this problem: we want to train a model to predict Big Mountain's ticket price based on data from _all the other_ resorts! We don't want Big Mountain's current price to bias this. We want to calculate a price based only on its competitors."
   ]
  },
  {
   "cell_type": "code",
   "execution_count": 7,
   "metadata": {},
   "outputs": [],
   "source": [
    "X = ski_data.loc[ski_data.Name != \"Big Mountain Resort\", model.X_columns]\n",
    "y = ski_data.loc[ski_data.Name != \"Big Mountain Resort\", 'AdultWeekend']"
   ]
  },
  {
   "cell_type": "code",
   "execution_count": 8,
   "metadata": {},
   "outputs": [
    {
     "data": {
      "text/plain": [
       "(276, 276)"
      ]
     },
     "execution_count": 8,
     "metadata": {},
     "output_type": "execute_result"
    }
   ],
   "source": [
    "len(X), len(y)"
   ]
  },
  {
   "cell_type": "code",
   "execution_count": 9,
   "metadata": {},
   "outputs": [
    {
     "data": {
      "text/plain": [
       "Pipeline(steps=[('simpleimputer', SimpleImputer(strategy='median')),\n",
       "                ('standardscaler', None),\n",
       "                ('randomforestregressor',\n",
       "                 RandomForestRegressor(n_estimators=69, random_state=47))])"
      ]
     },
     "execution_count": 9,
     "metadata": {},
     "output_type": "execute_result"
    }
   ],
   "source": [
    "model.fit(X, y)"
   ]
  },
  {
   "cell_type": "code",
   "execution_count": 10,
   "metadata": {},
   "outputs": [],
   "source": [
    "cv_results = cross_validate(model, X, y, scoring='neg_mean_absolute_error', cv=5, n_jobs=-1)"
   ]
  },
  {
   "cell_type": "code",
   "execution_count": 11,
   "metadata": {},
   "outputs": [
    {
     "data": {
      "text/plain": [
       "array([-12.09690217,  -9.30247694, -11.41595784,  -8.10096706,\n",
       "       -11.04942819])"
      ]
     },
     "execution_count": 11,
     "metadata": {},
     "output_type": "execute_result"
    }
   ],
   "source": [
    "cv_results['test_score']"
   ]
  },
  {
   "cell_type": "code",
   "execution_count": 12,
   "metadata": {},
   "outputs": [
    {
     "data": {
      "text/plain": [
       "(10.393146442687748, 1.4712769116280346)"
      ]
     },
     "execution_count": 12,
     "metadata": {},
     "output_type": "execute_result"
    }
   ],
   "source": [
    "mae_mean, mae_std = np.mean(-1 * cv_results['test_score']), np.std(-1 * cv_results['test_score'])\n",
    "mae_mean, mae_std"
   ]
  },
  {
   "cell_type": "markdown",
   "metadata": {},
   "source": [
    "These numbers will inevitably be different to those in the previous step that used a different training data set. They should, however, be consistent. It's important to appreciate that estimates of model performance are subject to the noise and uncertainty of data!"
   ]
  },
  {
   "cell_type": "markdown",
   "metadata": {},
   "source": [
    "## 5.7 Calculate Expected Big Mountain Ticket Price From The Model<a id='5.7_Calculate_Expected_Big_Mountain_Ticket_Price_From_The_Model'></a>"
   ]
  },
  {
   "cell_type": "code",
   "execution_count": 14,
   "metadata": {},
   "outputs": [],
   "source": [
    "X_bm = ski_data.loc[ski_data.Name == \"Big Mountain Resort\", model.X_columns]\n",
    "y_bm = ski_data.loc[ski_data.Name == \"Big Mountain Resort\", 'AdultWeekend']"
   ]
  },
  {
   "cell_type": "code",
   "execution_count": 15,
   "metadata": {},
   "outputs": [],
   "source": [
    "bm_pred = model.predict(X_bm).item()"
   ]
  },
  {
   "cell_type": "code",
   "execution_count": 16,
   "metadata": {},
   "outputs": [],
   "source": [
    "y_bm = y_bm.values.item()"
   ]
  },
  {
   "cell_type": "code",
   "execution_count": 17,
   "metadata": {},
   "outputs": [
    {
     "name": "stdout",
     "output_type": "stream",
     "text": [
      "Big Mountain Resort modelled price is $95.87, actual price is $81.00.\n",
      "Even with the expected mean absolute error of $10.39, this suggests there is room for an increase.\n"
     ]
    }
   ],
   "source": [
    "print(f'Big Mountain Resort modelled price is ${bm_pred:.2f}, actual price is ${y_bm:.2f}.')\n",
    "print(f'Even with the expected mean absolute error of ${mae_mean:.2f}, this suggests there is room for an increase.')"
   ]
  },
  {
   "cell_type": "markdown",
   "metadata": {},
   "source": [
    "This result should be looked at optimistically and doubtfully! The validity of our model lies in the assumption that other resorts accurately set their prices according to what the market (the ticket-buying public) supports. The fact that our resort seems to be charging that much less that what's predicted suggests our resort might be undercharging. \n",
    "But if ours is mispricing itself, are others? It's reasonable to expect that some resorts will be \"overpriced\" and some \"underpriced.\" Or if resorts are pretty good at pricing strategies, it could be that our model is simply lacking some key data? Certainly we know nothing about operating costs, for example, and they would surely help."
   ]
  },
  {
   "cell_type": "markdown",
   "metadata": {},
   "source": [
    "## 5.8 Big Mountain Resort In Market Context<a id='5.8_Big_Mountain_Resort_In_Market_Context'></a>"
   ]
  },
  {
   "cell_type": "markdown",
   "metadata": {},
   "source": [
    "Features that came up as important in the modeling (not just our final, random forest model) included:\n",
    "* vertical_drop\n",
    "* Snow Making_ac\n",
    "* total_chairs\n",
    "* fastQuads\n",
    "* Runs\n",
    "* LongestRun_mi\n",
    "* trams\n",
    "* SkiableTerrain_ac"
   ]
  },
  {
   "cell_type": "markdown",
   "metadata": {},
   "source": [
    "A handy glossary of skiing terms can be found on the [ski.com](https://www.ski.com/ski-glossary) site. Some potentially relevant contextual information is that vertical drop, although nominally the height difference from the summit to the base, is generally taken from the highest [_lift-served_](http://verticalfeet.com/) point."
   ]
  },
  {
   "cell_type": "markdown",
   "metadata": {},
   "source": [
    "It's often useful to define custom functions for visualizing data in meaningful ways. The function below takes a feature name as an input and plots a histogram of the values of that feature. It then marks where Big Mountain sits in the distribution by marking Big Mountain's value with a vertical line using `matplotlib`'s [axvline](https://matplotlib.org/3.1.1/api/_as_gen/matplotlib.pyplot.axvline.html) function. It also performs a little cleaning up of missing values and adds descriptive labels and a title."
   ]
  },
  {
   "cell_type": "code",
   "execution_count": 21,
   "metadata": {},
   "outputs": [],
   "source": [
    "#Code task 1#\n",
    "#Add code to the `plot_compare` function that displays a vertical, dashed line\n",
    "#on the histogram to indicate Big Mountain's position in the distribution\n",
    "#Hint: plt.axvline() plots a vertical line, its position for 'feature1'\n",
    "#would be `big_mountain['feature1'].values, we'd like a red line, which can be\n",
    "#specified with c='r', a dashed linestyle is produced by ls='--',\n",
    "#and it's nice to give it a slightly reduced alpha value, such as 0.8.\n",
    "#Don't forget to give it a useful label (e.g. 'Big Mountain') so it's listed\n",
    "#in the legend.\n",
    "def plot_compare(feat_name, description, state=None, figsize=(10, 5)):\n",
    "    \"\"\"Graphically compare distributions of features.\n",
    "    \n",
    "    Plot histogram of values for all resorts and reference line to mark\n",
    "    Big Mountain's position.\n",
    "    \n",
    "    Arguments:\n",
    "    feat_name - the feature column name in the data\n",
    "    description - text description of the feature\n",
    "    state - select a specific state (None for all states)\n",
    "    figsize - (optional) figure size\n",
    "    \"\"\"\n",
    "    \n",
    "    plt.subplots(figsize=figsize)\n",
    "    # quirk that hist sometimes objects to NaNs, sometimes doesn't\n",
    "    # filtering only for finite values tidies this up\n",
    "    if state is None:\n",
    "        ski_x = ski_data[feat_name]\n",
    "    else:\n",
    "        ski_x = ski_data.loc[ski_data.state == state, feat_name]\n",
    "    ski_x = ski_x[np.isfinite(ski_x)]\n",
    "    plt.hist(ski_x, bins=30)\n",
    "    plt.axvline(x=big_mountain[feat_name].values, c='r', ls='--', alpha=0.8, label='Big Mountain')\n",
    "    plt.xlabel(description)\n",
    "    plt.ylabel('frequency')\n",
    "    plt.title(description + ' distribution for resorts in market share')\n",
    "    plt.legend()"
   ]
  },
  {
   "cell_type": "markdown",
   "metadata": {},
   "source": [
    "### 5.8.1 Ticket price<a id='5.8.1_Ticket_price'></a>"
   ]
  },
  {
   "cell_type": "markdown",
   "metadata": {},
   "source": [
    "Look at where Big Mountain sits overall amongst all resorts for price and for just other resorts in Montana."
   ]
  },
  {
   "cell_type": "code",
   "execution_count": 22,
   "metadata": {},
   "outputs": [
    {
     "data": {
      "image/png": "[encoded data removed]",
      "text/plain": [
       "<Figure size 720x360 with 1 Axes>"
      ]
     },
     "metadata": {
      "needs_background": "light"
     },
     "output_type": "display_data"
    }
   ],
   "source": [
    "plot_compare('AdultWeekend', 'Adult weekend ticket price ($)')"
   ]
  },
  {
   "cell_type": "code",
   "execution_count": 23,
   "metadata": {},
   "outputs": [
    {
     "data": {
      "image/png": "[encoded data removed]",
      "text/plain": [
       "<Figure size 720x360 with 1 Axes>"
      ]
     },
     "metadata": {
      "needs_background": "light"
     },
     "output_type": "display_data"
    }
   ],
   "source": [
    "plot_compare('AdultWeekend', 'Adult weekend ticket price ($) - Montana only', state='Montana')"
   ]
  },
  {
   "cell_type": "markdown",
   "metadata": {},
   "source": [
    "### 5.8.2 Vertical drop<a id='5.8.2_Vertical_drop'></a>"
   ]
  },
  {
   "cell_type": "code",
   "execution_count": 26,
   "metadata": {},
   "outputs": [
    {
     "data": {
      "image/png": "[encoded data removed]",
      "text/plain": [
       "<Figure size 720x360 with 1 Axes>"
      ]
     },
     "metadata": {
      "needs_background": "light"
     },
     "output_type": "display_data"
    }
   ],
   "source": [
    "plot_compare('vertical_drop', 'Vertical drop (feet)')"
   ]
  },
  {
   "cell_type": "markdown",
   "metadata": {},
   "source": [
    "Big Mountain is doing well for vertical drop, but there are still quite a few resorts with a greater drop."
   ]
  },
  {
   "cell_type": "markdown",
   "metadata": {},
   "source": [
    "### 5.8.3 Snow making area<a id='5.8.3_Snow_making_area'></a>"
   ]
  },
  {
   "cell_type": "code",
   "execution_count": 27,
   "metadata": {},
   "outputs": [
    {
     "data": {
      "image/png": "[encoded data removed]",
      "text/plain": [
       "<Figure size 720x360 with 1 Axes>"
      ]
     },
     "metadata": {
      "needs_background": "light"
     },
     "output_type": "display_data"
    }
   ],
   "source": [
    "plot_compare('Snow Making_ac', 'Area covered by snow makers (acres)')"
   ]
  },
  {
   "cell_type": "markdown",
   "metadata": {},
   "source": [
    "Big Mountain is very high up the league table of snow making area."
   ]
  },
  {
   "cell_type": "markdown",
   "metadata": {},
   "source": [
    "### 5.8.4 Total number of chairs<a id='5.8.4_Total_number_of_chairs'></a>"
   ]
  },
  {
   "cell_type": "code",
   "execution_count": 28,
   "metadata": {},
   "outputs": [
    {
     "data": {
      "image/png": "[encoded data removed]",
      "text/plain": [
       "<Figure size 720x360 with 1 Axes>"
      ]
     },
     "metadata": {
      "needs_background": "light"
     },
     "output_type": "display_data"
    }
   ],
   "source": [
    "plot_compare('total_chairs', 'Total number of chairs')"
   ]
  },
  {
   "cell_type": "markdown",
   "metadata": {},
   "source": [
    "Big Mountain has amongst the highest number of total chairs, resorts with more appear to be outliers."
   ]
  },
  {
   "cell_type": "markdown",
   "metadata": {},
   "source": [
    "### 5.8.5 Fast quads<a id='5.8.5_Fast_quads'></a>"
   ]
  },
  {
   "cell_type": "code",
   "execution_count": 22,
   "metadata": {},
   "outputs": [
    {
     "data": {
      "image/png": "[encoded data removed]",
      "text/plain": [
       "<Figure size 720x360 with 1 Axes>"
      ]
     },
     "metadata": {
      "needs_background": "light"
     },
     "output_type": "display_data"
    }
   ],
   "source": [
    "plot_compare('fastQuads', 'Number of fast quads')"
   ]
  },
  {
   "cell_type": "markdown",
   "metadata": {},
   "source": [
    "Most resorts have no fast quads. Big Mountain has 3, which puts it high up that league table. There are some values  much higher, but they are rare."
   ]
  },
  {
   "cell_type": "markdown",
   "metadata": {},
   "source": [
    "### 5.8.6 Runs<a id='5.8.6_Runs'></a>"
   ]
  },
  {
   "cell_type": "code",
   "execution_count": 23,
   "metadata": {},
   "outputs": [
    {
     "data": {
      "image/png": "[encoded data removed]",
      "text/plain": [
       "<Figure size 720x360 with 1 Axes>"
      ]
     },
     "metadata": {
      "needs_background": "light"
     },
     "output_type": "display_data"
    }
   ],
   "source": [
    "plot_compare('Runs', 'Total number of runs')"
   ]
  },
  {
   "cell_type": "markdown",
   "metadata": {},
   "source": [
    "Big Mountain compares well for the number of runs. There are some resorts with more, but not many."
   ]
  },
  {
   "cell_type": "markdown",
   "metadata": {},
   "source": [
    "### 5.8.7 Longest run<a id='5.8.7_Longest_run'></a>"
   ]
  },
  {
   "cell_type": "code",
   "execution_count": 29,
   "metadata": {},
   "outputs": [
    {
     "data": {
      "image/png": "[encoded data removed]",
      "text/plain": [
       "<Figure size 720x360 with 1 Axes>"
      ]
     },
     "metadata": {
      "needs_background": "light"
     },
     "output_type": "display_data"
    }
   ],
   "source": [
    "plot_compare('LongestRun_mi', 'Longest run length (miles)')"
   ]
  },
  {
   "cell_type": "markdown",
   "metadata": {},
   "source": [
    "Big Mountain has one of the longest runs. Although it is just over half the length of the longest, the longer ones are rare."
   ]
  },
  {
   "cell_type": "markdown",
   "metadata": {},
   "source": [
    "### 5.8.8 Trams<a id='5.8.8_Trams'></a>"
   ]
  },
  {
   "cell_type": "code",
   "execution_count": 30,
   "metadata": {},
   "outputs": [
    {
     "data": {
      "image/png": "[encoded data removed]",
      "text/plain": [
       "<Figure size 720x360 with 1 Axes>"
      ]
     },
     "metadata": {
      "needs_background": "light"
     },
     "output_type": "display_data"
    }
   ],
   "source": [
    "plot_compare('trams', 'Number of trams')"
   ]
  },
  {
   "cell_type": "markdown",
   "metadata": {},
   "source": [
    "The vast majority of resorts, such as Big Mountain, have no trams."
   ]
  },
  {
   "cell_type": "markdown",
   "metadata": {},
   "source": [
    "### 5.8.9 Skiable terrain area<a id='5.8.9_Skiable_terrain_area'></a>"
   ]
  },
  {
   "cell_type": "code",
   "execution_count": 31,
   "metadata": {},
   "outputs": [
    {
     "data": {
      "image/png": "[encoded data removed]",
      "text/plain": [
       "<Figure size 720x360 with 1 Axes>"
      ]
     },
     "metadata": {
      "needs_background": "light"
     },
     "output_type": "display_data"
    }
   ],
   "source": [
    "plot_compare('SkiableTerrain_ac', 'Skiable terrain area (acres)')"
   ]
  },
  {
   "cell_type": "markdown",
   "metadata": {},
   "source": [
    "Big Mountain is amongst the resorts with the largest amount of skiable terrain."
   ]
  },
  {
   "cell_type": "markdown",
   "metadata": {},
   "source": [
    "## 5.9 Modeling scenarios<a id='5.9_Modeling_scenarios'></a>"
   ]
  },
  {
   "cell_type": "markdown",
   "metadata": {},
   "source": [
    "Big Mountain Resort has been reviewing potential scenarios for either cutting costs or increasing revenue (from ticket prices). Ticket price is not determined by any set of parameters; the resort is free to set whatever price it likes. However, the resort operates within a market where people pay more for certain facilities, and less for others. Being able to sense how facilities support a given ticket price is valuable business intelligence. This is where the utility of our model comes in.\n",
    "\n",
    "The business has shortlisted some options:\n",
    "1. Permanently closing down up to 10 of the least used runs. This doesn't impact any other resort statistics.\n",
    "2. Increase the vertical drop by adding a run to a point 150 feet lower down but requiring the installation of an additional chair lift to bring skiers back up, without additional snow making coverage\n",
    "3. Same as number 2, but adding 2 acres of snow making cover\n",
    "4. Increase the longest run by 0.2 mile to boast 3.5 miles length, requiring an additional snow making coverage of 4 acres\n",
    "\n",
    "The expected number of visitors over the season is 350,000 and, on average, visitors ski for five days. Assume the provided data includes the additional lift that Big Mountain recently installed."
   ]
  },
  {
   "cell_type": "code",
   "execution_count": 36,
   "metadata": {},
   "outputs": [],
   "source": [
    "expected_visitors = 350_000"
   ]
  },
  {
   "cell_type": "code",
   "execution_count": 37,
   "metadata": {},
   "outputs": [
    {
     "data": {
      "text/html": [
       "<div>\n",
       "<style scoped>\n",
       "    .dataframe tbody tr th:only-of-type {\n",
       "        vertical-align: middle;\n",
       "    }\n",
       "\n",
       "    .dataframe tbody tr th {\n",
       "        vertical-align: top;\n",
       "    }\n",
       "\n",
       "    .dataframe thead th {\n",
       "        text-align: right;\n",
       "    }\n",
       "</style>\n",
       "<table border=\"1\" class=\"dataframe\">\n",
       "  <thead>\n",
       "    <tr style=\"text-align: right;\">\n",
       "      <th></th>\n",
       "      <th>vertical_drop</th>\n",
       "      <th>Snow Making_ac</th>\n",
       "      <th>total_chairs</th>\n",
       "      <th>fastQuads</th>\n",
       "      <th>Runs</th>\n",
       "      <th>LongestRun_mi</th>\n",
       "      <th>trams</th>\n",
       "      <th>SkiableTerrain_ac</th>\n",
       "    </tr>\n",
       "  </thead>\n",
       "  <tbody>\n",
       "    <tr>\n",
       "      <th>124</th>\n",
       "      <td>2353</td>\n",
       "      <td>600.0</td>\n",
       "      <td>14</td>\n",
       "      <td>3</td>\n",
       "      <td>105.0</td>\n",
       "      <td>3.3</td>\n",
       "      <td>0</td>\n",
       "      <td>3000.0</td>\n",
       "    </tr>\n",
       "  </tbody>\n",
       "</table>\n",
       "</div>"
      ],
      "text/plain": [
       "     vertical_drop  Snow Making_ac  total_chairs  fastQuads   Runs  \\\n",
       "124           2353           600.0            14          3  105.0   \n",
       "\n",
       "     LongestRun_mi  trams  SkiableTerrain_ac  \n",
       "124            3.3      0             3000.0  "
      ]
     },
     "execution_count": 37,
     "metadata": {},
     "output_type": "execute_result"
    }
   ],
   "source": [
    "all_feats = ['vertical_drop', 'Snow Making_ac', 'total_chairs', 'fastQuads', \n",
    "             'Runs', 'LongestRun_mi', 'trams', 'SkiableTerrain_ac']\n",
    "big_mountain[all_feats]"
   ]
  },
  {
   "cell_type": "code",
   "execution_count": 38,
   "metadata": {},
   "outputs": [],
   "source": [
    "#Code task 2#\n",
    "#In this function, copy the Big Mountain data into a new data frame\n",
    "#(Note we use .copy()!)\n",
    "#And then for each feature, and each of its deltas (changes from the original),\n",
    "#create the modified scenario dataframe (bm2) and make a ticket price prediction\n",
    "#for it. The difference between the scenario's prediction and the current\n",
    "#prediction is then calculated and returned.\n",
    "#Complete the code to increment each feature by the associated delta\n",
    "def predict_increase(features, deltas):\n",
    "    \"\"\"Increase in modelled ticket price by applying delta to feature.\n",
    "    \n",
    "    Arguments:\n",
    "    features - list, names of the features in the ski_data dataframe to change\n",
    "    deltas - list, the amounts by which to increase the values of the features\n",
    "    \n",
    "    Outputs:\n",
    "    Amount of increase in the predicted ticket price\n",
    "    \"\"\"\n",
    "    \n",
    "    bm2 = X_bm.copy()\n",
    "    for f, d in zip(features, deltas):\n",
    "        bm2[f] += d\n",
    "    return model.predict(bm2).item() - model.predict(X_bm).item()"
   ]
  },
  {
   "cell_type": "markdown",
   "metadata": {},
   "source": [
    "### 5.9.1 Scenario 1<a id='5.9.1_Scenario_1'></a>"
   ]
  },
  {
   "cell_type": "markdown",
   "metadata": {},
   "source": [
    "Close up to 10 of the least used runs. The number of runs is the only parameter varying."
   ]
  },
  {
   "cell_type": "code",
   "execution_count": 39,
   "metadata": {},
   "outputs": [
    {
     "data": {
      "text/plain": [
       "[-1, -2, -3, -4, -5, -6, -7, -8, -9, -10]"
      ]
     },
     "execution_count": 39,
     "metadata": {},
     "output_type": "execute_result"
    }
   ],
   "source": [
    "[i for i in range(-1, -11, -1)]"
   ]
  },
  {
   "cell_type": "code",
   "execution_count": 40,
   "metadata": {},
   "outputs": [],
   "source": [
    "runs_delta = [i for i in range(-1, -11, -1)]\n",
    "price_deltas = [predict_increase(['Runs'], [delta]) for delta in runs_delta]"
   ]
  },
  {
   "cell_type": "code",
   "execution_count": 41,
   "metadata": {},
   "outputs": [
    {
     "data": {
      "text/plain": [
       "[0.0,\n",
       " -0.4057971014492807,\n",
       " -0.6666666666666714,\n",
       " -0.6666666666666714,\n",
       " -0.6666666666666714,\n",
       " -1.2608695652173907,\n",
       " -1.2608695652173907,\n",
       " -1.2608695652173907,\n",
       " -1.7101449275362341,\n",
       " -1.8115942028985472]"
      ]
     },
     "execution_count": 41,
     "metadata": {},
     "output_type": "execute_result"
    }
   ],
   "source": [
    "price_deltas"
   ]
  },
  {
   "cell_type": "code",
   "execution_count": 42,
   "metadata": {},
   "outputs": [
    {
     "data": {
      "image/png": "[encoded data removed]",
      "text/plain": [
       "<Figure size 720x360 with 2 Axes>"
      ]
     },
     "metadata": {
      "needs_background": "light"
     },
     "output_type": "display_data"
    }
   ],
   "source": [
    "#Code task 3#\n",
    "#Create two plots, side by side, for the predicted ticket price change (delta) for each\n",
    "#condition (number of runs closed) in the scenario and the associated predicted revenue\n",
    "#change on the assumption that each of the expected visitors buys 5 tickets\n",
    "#There are two things to do here:\n",
    "#1 - use a list comprehension to create a list of the number of runs closed from `runs_delta`\n",
    "#2 - use a list comprehension to create a list of predicted revenue changes from `price_deltas`\n",
    "runs_closed = [-1 * d for d in runs_delta] #1\n",
    "fig, ax = plt.subplots(1, 2, figsize=(10, 5))\n",
    "fig.subplots_adjust(wspace=0.5)\n",
    "ax[0].plot(runs_closed, price_deltas, 'o-')\n",
    "ax[0].set(xlabel='Runs closed', ylabel='Change ($)', title='Ticket price')\n",
    "revenue_deltas = [5 * expected_visitors * d for d in price_deltas] #2\n",
    "ax[1].plot(runs_closed, revenue_deltas, 'o-')\n",
    "ax[1].set(xlabel='Runs closed', ylabel='Change ($)', title='Revenue');"
   ]
  },
  {
   "cell_type": "markdown",
   "metadata": {},
   "source": [
    "The model says closing one run makes no difference. Closing 2 and 3 successively reduces support for ticket price and so revenue. If Big Mountain closes down 3 runs, it seems they may as well close down 4 or 5 as there's no further loss in ticket price. Increasing the closures down to 6 or more leads to a large drop. "
   ]
  },
  {
   "cell_type": "markdown",
   "metadata": {},
   "source": [
    "### 5.9.2 Scenario 2<a id='5.9.2_Scenario_2'></a>"
   ]
  },
  {
   "cell_type": "markdown",
   "metadata": {},
   "source": [
    "In this scenario, Big Mountain is adding a run, increasing the vertical drop by 150 feet, and installing an additional chair lift."
   ]
  },
  {
   "cell_type": "code",
   "execution_count": 71,
   "metadata": {},
   "outputs": [],
   "source": [
    "#Code task 4#\n",
    "#Call `predict_increase` with a list of the features 'Runs', 'vertical_drop', and 'total_chairs'\n",
    "#and associated deltas of 1, 150, and 1\n",
    "ticket2_increase = predict_increase(['Runs', 'vertical_drop', 'total_chairs'], [1, 150, 1])\n",
    "revenue2_increase = 5 * expected_visitors * ticket2_increase"
   ]
  },
  {
   "cell_type": "code",
   "execution_count": 72,
   "metadata": {},
   "outputs": [
    {
     "name": "stdout",
     "output_type": "stream",
     "text": [
      "This scenario increases support for ticket price by $1.99\n",
      "Over the season, this could be expected to amount to $3474638\n"
     ]
    }
   ],
   "source": [
    "print(f'This scenario increases support for ticket price by ${ticket2_increase:.2f}')\n",
    "print(f'Over the season, this could be expected to amount to ${revenue2_increase:.0f}')"
   ]
  },
  {
   "cell_type": "markdown",
   "metadata": {},
   "source": [
    "### 5.9.3 Scenario 3<a id='5.9.3_Scenario_3'></a>"
   ]
  },
  {
   "cell_type": "markdown",
   "metadata": {},
   "source": [
    "In this scenario, you are repeating the previous one but adding 2 acres of snow making."
   ]
  },
  {
   "cell_type": "code",
   "execution_count": 45,
   "metadata": {},
   "outputs": [],
   "source": [
    "#Code task 5#\n",
    "#Repeat scenario 2 conditions, but add an increase of 2 to `Snow Making_ac`\n",
    "ticket3_increase = predict_increase(['Runs', 'vertical_drop', 'total_chairs', 'Snow Making_ac'], [1, 150, 1, 2])\n",
    "revenue3_increase = 5 * expected_visitors * ticket3_increase"
   ]
  },
  {
   "cell_type": "code",
   "execution_count": 46,
   "metadata": {},
   "outputs": [
    {
     "name": "stdout",
     "output_type": "stream",
     "text": [
      "This scenario increases support for ticket price by $1.99\n",
      "Over the season, this could be expected to amount to $3474638\n"
     ]
    }
   ],
   "source": [
    "print(f'This scenario increases support for ticket price by ${ticket3_increase:.2f}')\n",
    "print(f'Over the season, this could be expected to amount to ${revenue3_increase:.0f}')"
   ]
  },
  {
   "cell_type": "markdown",
   "metadata": {},
   "source": [
    "Such a small increase in the snow making area makes no difference!"
   ]
  },
  {
   "cell_type": "markdown",
   "metadata": {},
   "source": [
    "### 5.9.4 Scenario 4<a id='5.9.4_Scenario_4'></a>"
   ]
  },
  {
   "cell_type": "markdown",
   "metadata": {},
   "source": [
    "This scenario calls for increasing the longest run by .2 miles and guaranteeing its snow coverage by adding 4 acres of snow making capability."
   ]
  },
  {
   "cell_type": "code",
   "execution_count": 47,
   "metadata": {},
   "outputs": [
    {
     "data": {
      "text/plain": [
       "0.0"
      ]
     },
     "execution_count": 47,
     "metadata": {},
     "output_type": "execute_result"
    }
   ],
   "source": [
    "#Code task 6#\n",
    "#Predict the increase from adding 0.2 miles to `LongestRun_mi` and 4 to `Snow Making_ac`\n",
    "predict_increase(['LongestRun_mi', 'Snow Making_ac'], [0.2, 4])"
   ]
  },
  {
   "cell_type": "markdown",
   "metadata": {},
   "source": [
    "No difference whatsoever. Although the longest run feature was used in the linear model, the random forest model (the one we chose because of its better performance) only has longest run way down in the feature importance list. "
   ]
  },
  {
   "cell_type": "markdown",
   "metadata": {},
   "source": [
    "## 5.10 Summary<a id='5.10_Summary'></a>"
   ]
  },
  {
   "cell_type": "markdown",
   "metadata": {},
   "source": [
    "**Q: 1** Write a summary of the results of modeling these scenarios. Start by starting the current position; how much does Big Mountain currently charge? What does your modelling suggest for a ticket price that could be supported in the marketplace by Big Mountain's facilities? How would you approach suggesting such a change to the business leadership? Discuss the additional operating cost of the new chair lift per ticket (on the basis of each visitor on average buying 5 day tickets) in the context of raising prices to cover this. For future improvements, state which, if any, of the modeled scenarios you'd recommend for further consideration. Suggest how the business might test, and progress, with any run closures."
   ]
  },
  {
   "cell_type": "markdown",
   "metadata": {},
   "source": [
    "**A: 1** The current market price for a ticket to Big Mountain resort is \\\\$81. Our random forest regression model suggests that the ticket price should be increased to \\\\$95.37. In approaching leadership, I would preface this with the concern that our model only considers a limited set of dimensions from which to draw this estimate and that other features like operating costs would also be a useful thing to understand before considering a price increase. Additionally, this model assumes that all resorts in the dataset are accurately priced, which may not be the case. However, we find that in features like height of vertical drop, snow-making, amount of total chairs, number of total runs, and longest runs Big Mountain resort appears among the largest players, which may help justify an increase in price.\n",
    "\n",
    "Recall that the additional chair lift increases operating costs by \\\\$1,540,000 this year. Given 350,000 seasonal visitors, a mean average of 5 ticket purchases per customer, and a current price of  the new ticket price would have to be at least \\\\$81.88 to cover this new expense ($1540000 = 350000 \\cdot 5 \\cdot (x - 81)$).\n",
    "\n",
    "Depending on the upfront cost to improve these features, I'd recommend considering the second modeled scenario, in which they add an additional run, increase the vertical drop by 150 feet, and increase the number of chairs to accommodate a greater number of visitors. According to our model, this would warrant a ticket price increase of \\\\$1.99, resulting in an increase in ticket revenue of \\\\$3,474,638 (based on 350,000 seasonal visitors with a 5 ticket purchase mean average per visitor). Funnily enough, the model yields the exact same result for removing a run, increasing the vertical drop by only 100 feet, and adding an additional chair. \n",
    "\n",
    "Fortunately, these measures are largely additive and incremental so testing may involve investing in one of the three features and increasing the ticket price fractionally. \n"
   ]
  },
  {
   "cell_type": "markdown",
   "metadata": {},
   "source": [
    "## 5.11 Further work<a id='5.11_Further_work'></a>"
   ]
  },
  {
   "cell_type": "markdown",
   "metadata": {},
   "source": [
    "**Q: 2** What next? Highlight any deficiencies in the data that hampered or limited this work. The only price data in our dataset were ticket prices. You were provided with information about the additional operating cost of the new chair lift, but what other cost information would be useful? Big Mountain was already fairly high on some of the league charts of facilities offered, but why was its modeled price so much higher than its current price? Would this mismatch come as a surprise to the business executives? How would you find out? Assuming the business leaders felt this model was useful, how would the business make use of it? Would you expect them to come to you every time they wanted to test a new combination of parameters in a scenario? We hope you would have better things to do, so how might this model be made available for business analysts to use and explore?"
   ]
  },
  {
   "cell_type": "markdown",
   "metadata": {},
   "source": [
    "**A: 2** An obvious deficiency of our data was that it did not include other operating costs, especially because we decided to include state-wide resorts. Some states may impose additional costs that require the resort to increase ticket prices. Treating all resorts equally regardless of state may have weakened or obfuscated otherwise strong predictors of price.\n",
    "\n",
    "Another deficiency was an assumption that this ticket price is constant and does not vary year-to-year. There may exist some resorts that made large investments the prior year which justifies a large momentary increase in ticket price while the number of features they offer to visitors remains fixed. In this lens, the reason why Big Mountain's modeled price was so much higher than its current price may be that other resorts in the dataset have already priced-in their additional operating costs to prepare for the upcoming season.\n",
    "\n",
    "Regarding ticket prices, we completely omitted weekday tickets because weekend ticket values contains less missing data. Had we included weekday ticket prices, we may have encountered different patterns with respect to our features. Also, since many resorts have higher weekend ticket prices than weekday ticket prices, the model may have overpriced the estimate of Big Mountain resort. \n",
    "\n",
    "Another possible reason why the current ticket price of Big Mountain resort was so low compared to the predicted price is that the Montana resort ticket prices are also relatively low compared the other resorts across state borders. This may not come as a surprise to the Big Mountain resort executives because they may have priced their tickets according to the regional or state resort competition.\n",
    "\n",
    "If the business executives at Big Mountain resort felt this was useful, they could utilize it by allowing the model to perform online learning on frequently updated data. This way, the model can account for any adjustments made by the business from year-to-year and improve its predictiveness. This model can possibly be made accessible using a graphical user interface operating on a script that runs on the live data. Business analysts would be able to use this to test new combinations of parameters based on newly updated pricing, cost, and service-related information."
   ]
  },
  {
   "cell_type": "code",
   "execution_count": null,
   "metadata": {},
   "outputs": [],
   "source": []
  }
 ],
 "metadata": {
  "kernelspec": {
   "display_name": "Python 3",
   "language": "python",
   "name": "python3"
  },
  "language_info": {
   "codemirror_mode": {
    "name": "ipython",
    "version": 3
   },
   "file_extension": ".py",
   "mimetype": "text/x-python",
   "name": "python",
   "nbconvert_exporter": "python",
   "pygments_lexer": "ipython3",
   "version": "3.7.6"
  },
  "toc": {
   "base_numbering": 1,
   "nav_menu": {},
   "number_sections": true,
   "sideBar": true,
   "skip_h1_title": false,
   "title_cell": "Table of Contents",
   "title_sidebar": "Contents",
   "toc_cell": false,
   "toc_position": {},
   "toc_section_display": true,
   "toc_window_display": true
  },
  "varInspector": {
   "cols": {
    "lenName": 16,
    "lenType": 16,
    "lenVar": 40
   },
   "kernels_config": {
    "python": {
     "delete_cmd_postfix": "",
     "delete_cmd_prefix": "del ",
     "library": "var_list.py",
     "varRefreshCmd": "print(var_dic_list())"
    },
    "r": {
     "delete_cmd_postfix": ") ",
     "delete_cmd_prefix": "rm(",
     "library": "var_list.r",
     "varRefreshCmd": "cat(var_dic_list()) "
    }
   },
   "types_to_exclude": [
    "module",
    "function",
    "builtin_function_or_method",
    "instance",
    "_Feature"
   ],
   "window_display": false
  }
 },
 "nbformat": 4,
 "nbformat_minor": 4
}
